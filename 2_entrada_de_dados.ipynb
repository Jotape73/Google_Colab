{
  "nbformat": 4,
  "nbformat_minor": 0,
  "metadata": {
    "colab": {
      "provenance": [],
      "include_colab_link": true
    },
    "kernelspec": {
      "name": "python3",
      "display_name": "Python 3"
    }
  },
  "cells": [
    {
      "cell_type": "markdown",
      "metadata": {
        "id": "view-in-github",
        "colab_type": "text"
      },
      "source": [
        "<a href=\"https://colab.research.google.com/gist/Jotape73/dd1c662b6b53bdf8a4b5d793a681b693/2_entrada_de_dados.ipynb\" target=\"_parent\"><img src=\"https://colab.research.google.com/assets/colab-badge.svg\" alt=\"Open In Colab\"/></a>"
      ]
    },
    {
      "cell_type": "markdown",
      "metadata": {
        "id": "ut4Y0IhWWyVG"
      },
      "source": [
        "# Recebendo/Lendo dados\n",
        "\n",
        "Na Unidade 1, a entrada de dados foi feita diretamente no programa, atribuindo um valor fixo para variável.\n",
        "\n",
        "Nesta unidade veremos **como receber dados do usuário**.\n",
        "\n",
        "**Para receber dados do usuário, utilizamos a função ``input``.**\n",
        "\n",
        "\n",
        "É sempre bom exibir para o usuário a mensagem que explica qual dado ele deve digitar. **O texto de mensagem deve ficar entre aspas duplas**, ou seja,\n",
        "\n",
        "**``input(\"texto_da_mensagem\")``**\n",
        "\n",
        "Execute a célula abaixo. Deve aparecer uma caixa para você digitar o valor de C.\n",
        "Após digitar o valor para C, pressione a tecla enter."
      ]
    },
    {
      "cell_type": "markdown",
      "metadata": {
        "id": "hDNlu5IwWrLv"
      },
      "source": [
        "# Recebendo/Lendo dados\n",
        "\n",
        "Na Unidade 1, a entrada de dados foi feita diretamente no programa, atribuindo um valor fixo para variável.\n",
        "\n",
        "Nesta unidade veremos **como receber dados do usuário (que ele digita via teclado)**.\n",
        "\n",
        "**Para receber dados do usuário, utilizamos a função ``input``.**\n",
        "\n",
        "\n",
        "É sempre bom exibir para o usuário a mensagem que explica qual dado ele deve digitar. **O texto de mensagem deve ficar entre aspas duplas**, ou seja,\n",
        "\n",
        "**``input(\"texto_da_mensagem\")``**\n",
        "\n",
        "Execute a célula abaixo. Deve aparecer uma caixa para você digitar o valor de C.\n",
        "Após digitar o valor para C, pressione a tecla enter."
      ]
    },
    {
      "cell_type": "code",
      "metadata": {
        "id": "2JNDxnWoZgBd",
        "colab": {
          "base_uri": "https://localhost:8080/"
        },
        "outputId": "d22d5b0f-d4ab-4c59-ea95-808fbd3e092b"
      },
      "source": [
        "C = input(\"Digite a temperatura em Celsius: \") # Eh exibido texto \"Digite a temperatura em Celsius\" para o suario.\n",
        "                                               # O que usuario digitar eh atribuido a variavel C"
      ],
      "execution_count": 1,
      "outputs": [
        {
          "name": "stdout",
          "output_type": "stream",
          "text": [
            "Digite a temperatura em Celsius: 30\n"
          ]
        }
      ]
    },
    {
      "cell_type": "code",
      "metadata": {
        "id": "j48KQUOxZ0r3",
        "colab": {
          "base_uri": "https://localhost:8080/"
        },
        "outputId": "e24123c4-3f2b-40d2-cfda-2f9ff95361e8"
      },
      "source": [
        "print(\"A temperatura digitada é\", C ,\"graus Celsius\") # Imprima o texto (que esta entre aspas duplas), o conteudo da variavel C, e o segundo texto"
      ],
      "execution_count": 2,
      "outputs": [
        {
          "output_type": "stream",
          "name": "stdout",
          "text": [
            "A temperatura digitada é 30 graus Celsius\n"
          ]
        }
      ]
    },
    {
      "cell_type": "markdown",
      "metadata": {
        "id": "EV4kMFwoBQhd"
      },
      "source": [
        "**O `input ` considera como padrão o que usuário digita como um texto.**\n",
        "\n",
        "Abaixo digite 10 como o valor para C.\n",
        "\n",
        "Veja o que acontece quando tentamos calcular C+C."
      ]
    },
    {
      "cell_type": "code",
      "metadata": {
        "id": "bpCnnVXPBGGx"
      },
      "source": [
        "C = input(\"Digite a temperatura em Celsius: \")\n",
        "print(\"A temperatura digitada é\", C,\"graus Celsius\")\n",
        "D = C+C\n",
        "print(\"C+C é\", D)"
      ],
      "execution_count": null,
      "outputs": []
    },
    {
      "cell_type": "markdown",
      "metadata": {
        "id": "N_Jnp17MCfDT"
      },
      "source": [
        "O valor de D é 1010 quando o valor de C é 10. Por quê?\n",
        "\n",
        "É porque, **quando lidamos com textos, a operação ``+`` é a operação de concatenar (grudar) os textos.**\n",
        "\n",
        "Ou seja D é ``\"10\"+\"10\"``, que é ``\"1010\"``.\n",
        "\n",
        "Para que C seja considerado como número, **temos que fazer uma conversão**.\n",
        "\n",
        "Abaixo recebemos o valor na variável ``C_texto`` e **convertemos texto para um número que possivelmente pode ter casas decimais**.\n",
        "\n",
        "**Este tipo de número é chamado de ``float``**."
      ]
    },
    {
      "cell_type": "code",
      "metadata": {
        "id": "OVj27P1WCa8b",
        "colab": {
          "base_uri": "https://localhost:8080/"
        },
        "outputId": "5f783458-94a4-477a-e16f-cdb1490296fc"
      },
      "source": [
        "C_texto = input(\"Digite a temperatura em Celsius: \")\n",
        "C = float(C_texto)\n",
        "print(\"A temperatura digitada é\",C,\"graus Celsius\")\n",
        "D = C+C\n",
        "print(\"C+C é\", D)"
      ],
      "execution_count": 3,
      "outputs": [
        {
          "output_type": "stream",
          "name": "stdout",
          "text": [
            "Digite a temperatura em Celsius: 30.70\n",
            "A temperatura digitada é 30.7 graus Celsius\n",
            "C+C é 61.4\n"
          ]
        }
      ]
    },
    {
      "cell_type": "markdown",
      "metadata": {
        "id": "U4pVI8R-DgMx"
      },
      "source": [
        "Na verdade, podemos usar a própria variável ``C`` como a seguir:"
      ]
    },
    {
      "cell_type": "code",
      "metadata": {
        "id": "FhBqA6YvDERh"
      },
      "source": [
        "C = input(\"Digite a temperatura em Celsius: \")\n",
        "C = float(C)\n",
        "print(\"A temperatura digitada é\",C,\"graus Celsius\")\n",
        "D = C+C\n",
        "print(\"C+C é\", D)"
      ],
      "execution_count": null,
      "outputs": []
    },
    {
      "cell_type": "markdown",
      "metadata": {
        "id": "j7CNUIuDDvXT"
      },
      "source": [
        "Ou até mesmo, fazer em uma única linha (juntar as primeiras duas linhas de código acima em uma única linha):"
      ]
    },
    {
      "cell_type": "code",
      "metadata": {
        "id": "-2GFSRsJDxUb"
      },
      "source": [
        "C = float(input(\"Digite a temperatura em Celsius: \"))\n",
        "print(\"A temperatura digitada é\",C,\"graus Celsius\")\n",
        "D = C+C\n",
        "print(\"C+C é\", D)"
      ],
      "execution_count": null,
      "outputs": []
    },
    {
      "cell_type": "markdown",
      "metadata": {
        "id": "_bRfGwFQD3nu"
      },
      "source": [
        "Você pode usar qual opção preferir. É bem comum fazer em uma única linha.\n",
        "\n",
        "Veja mais um exemplo.\n",
        "\n",
        "Suponha que você queira dividir $d$ reais igualmente entre $n$ pessoas.\n",
        "\n",
        "Nesse caso, $d$ é um número possivelmente com casas decimais e $n$ é um número inteiro.\n",
        "\n",
        "**Para números inteiros, ao invés de ``float``, usamos ``int``**:"
      ]
    },
    {
      "cell_type": "code",
      "metadata": {
        "id": "-9GENKNBD29J"
      },
      "source": [
        "d = float(input(\"Digite a quantidade de dinheiro: \"))\n",
        "n = int(input(\"Digite o número de pessoas.\"))\n",
        "r = d/n\n",
        "print(\"Cada pessoa vai receber\",r,\"reais\")"
      ],
      "execution_count": null,
      "outputs": []
    },
    {
      "cell_type": "markdown",
      "metadata": {
        "id": "FZ7GCLeaFVy5"
      },
      "source": [
        "## Exercício: quilômetros percorridos\n",
        "\n",
        "Considere um carro com tanque com capacidade $C$ em litros e eficiência $E$ em km/litro. Queremos saber quantos quilômetros o carro anda com $C$ litros (assumindo que a eficiência vai ser exata).\n",
        "\n",
        "Faça um programa que\n",
        "- Recebe o valor de $C$\n",
        "- Recebe o valor de $E$\n",
        "- Mostre a resposta formatada com duas casas decimais como neste exemplo:\n",
        "O carro vai andar 256.79 quilômetros."
      ]
    },
    {
      "cell_type": "code",
      "source": [
        "C = float(input(\"Digite a quantidade de litros que colocou: \"))\n",
        "E = float(input(\"Digite a qunatidade de quilometros que ele consegue fazer por litro:\"))\n",
        "r =   C*E\n",
        "print(\"O carro vai andar \", r,\"quilômetros\")"
      ],
      "metadata": {
        "id": "bvptGlELGfH7",
        "colab": {
          "base_uri": "https://localhost:8080/",
          "height": 106
        },
        "outputId": "454574ce-2b2f-4738-a9a2-6ad9d24d3aa2"
      },
      "execution_count": 14,
      "outputs": [
        {
          "output_type": "error",
          "ename": "SyntaxError",
          "evalue": "invalid syntax (<ipython-input-14-2a948fbe6331>, line 4)",
          "traceback": [
            "\u001b[0;36m  File \u001b[0;32m\"<ipython-input-14-2a948fbe6331>\"\u001b[0;36m, line \u001b[0;32m4\u001b[0m\n\u001b[0;31m    print(\"O carro vai andar \",% r,\"quilômetros\")\u001b[0m\n\u001b[0m                               ^\u001b[0m\n\u001b[0;31mSyntaxError\u001b[0m\u001b[0;31m:\u001b[0m invalid syntax\n"
          ]
        }
      ]
    },
    {
      "cell_type": "markdown",
      "metadata": {
        "id": "2oeJxx-arFZ3"
      },
      "source": [
        "<hr>"
      ]
    }
  ]
}